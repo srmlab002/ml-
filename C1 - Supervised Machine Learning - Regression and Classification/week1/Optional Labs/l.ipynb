{
 "cells": [
  {
   "cell_type": "code",
   "execution_count": null,
   "metadata": {},
   "outputs": [
    {
     "ename": "",
     "evalue": "",
     "output_type": "error",
     "traceback": [
      "\u001b[1;31mFailed to start the Kernel. \n",
      "\u001b[1;31m\u001b[0m\u001b[33mWarning\u001b[0m \"deno jupyter\" is unstable and might change in the future.\n",
      "\u001b[1;31m\n",
      "\u001b[1;31m============================================================\n",
      "\u001b[1;31mDeno has panicked. This is a bug in Deno. Please report this\n",
      "\u001b[1;31mat https://github.com/denoland/deno/issues/new.\n",
      "\u001b[1;31mIf you can reliably reproduce this panic, include the\n",
      "\u001b[1;31mreproduction steps and re-run with the RUST_BACKTRACE=1 env\n",
      "\u001b[1;31mvar set and include the backtrace in your report.\n",
      "\u001b[1;31m\n",
      "\u001b[1;31mPlatform: linux x86_64\n",
      "\u001b[1;31mVersion: 1.41.3\n",
      "\u001b[1;31mArgs: [\"/home/codespace/.deno/bin/deno\", \"jupyter\", \"--kernel\", \"--conn\", \"/home/codespace/.local/share/jupyter/runtime/kernel-v2-22936fy3UjbBcz3V7.json\"]\n",
      "\u001b[1;31m\n",
      "\u001b[1;31mthread 'main' panicked at cli/util/logger.rs:79:5:\n",
      "\u001b[1;31mCould not install logger.: SetLoggerError(())\n",
      "\u001b[1;31mnote: run with `RUST_BACKTRACE=1` environment variable to display a backtrace. \n",
      "\u001b[1;31mView Jupyter <a href='command:jupyter.viewOutput'>log</a> for further details."
     ]
    }
   ],
   "source": [
    "console.log(344234255524545)"
   ]
  },
  {
   "cell_type": "code",
   "execution_count": null,
   "metadata": {},
   "outputs": [],
   "source": []
  }
 ],
 "metadata": {
  "kernelspec": {
   "display_name": "Deno",
   "language": "typescript",
   "name": "deno"
  },
  "language_info": {
   "codemirror_mode": {
    "name": "ipython",
    "version": 3
   },
   "file_extension": ".py",
   "mimetype": "text/x-python",
   "name": "typescript",
   "nbconvert_exporter": "python",
   "pygments_lexer": "ipython3",
   "version": "3.10.13"
  }
 },
 "nbformat": 4,
 "nbformat_minor": 4
}
